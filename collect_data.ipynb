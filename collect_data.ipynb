{
 "cells": [
  {
   "cell_type": "code",
   "execution_count": 14,
   "metadata": {},
   "outputs": [
    {
     "name": "stdout",
     "output_type": "stream",
     "text": [
      "圖片保存到: dataset/test\\ok\\image_1.png\n",
      "圖片保存到: dataset/test\\ok\\image_2.png\n",
      "圖片保存到: dataset/test\\ok\\image_3.png\n",
      "圖片保存到: dataset/test\\ok\\image_4.png\n",
      "圖片保存到: dataset/test\\ok\\image_5.png\n",
      "圖片保存到: dataset/test\\ok\\image_6.png\n",
      "圖片保存到: dataset/test\\ok\\image_7.png\n",
      "圖片保存到: dataset/test\\ok\\image_8.png\n",
      "圖片保存到: dataset/test\\ok\\image_9.png\n",
      "圖片保存到: dataset/test\\ok\\image_10.png\n",
      "圖片保存到: dataset/test\\ok\\image_11.png\n",
      "圖片保存到: dataset/test\\ok\\image_12.png\n",
      "圖片保存到: dataset/test\\ok\\image_13.png\n",
      "圖片保存到: dataset/test\\ok\\image_14.png\n",
      "圖片保存到: dataset/test\\ok\\image_15.png\n"
     ]
    }
   ],
   "source": [
    "import cv2\n",
    "import os\n",
    "from utils.preprocess import Preprocess \n",
    "\n",
    "# 定義資料夾路徑\n",
    "dataset_dir = 'dataset/test'\n",
    "label_dir = os.path.join(dataset_dir, 'ok')\n",
    "\n",
    "# 檢查資料夾是否存在，若不存在則創建\n",
    "if not os.path.exists(label_dir):\n",
    "    os.makedirs(label_dir)\n",
    "\n",
    "# 開啟攝影機 (0 表示默認的攝影機)\n",
    "cap = cv2.VideoCapture(0)\n",
    "\n",
    "if not cap.isOpened():\n",
    "    print(\"無法開啟攝影機\")\n",
    "    exit()\n",
    "\n",
    "frame_count = 1  # 用來計數已保存的圖片，從 1 開始\n",
    "\n",
    "# 創建 Preprocess 對象\n",
    "processor = Preprocess()\n",
    "\n",
    "while True:\n",
    "    # 讀取攝影機的每一幀\n",
    "    ret, frame = cap.read()\n",
    "\n",
    "    # 如果讀取失敗，則跳出循環\n",
    "    if not ret:\n",
    "        print(\"無法接收幀（stream end?）。正在退出 ...\")\n",
    "        break\n",
    "\n",
    "    # 反轉幀 (1 表示水平反轉，0 表示垂直反轉，-1 表示水平和垂直反轉)\n",
    "    frame = cv2.flip(frame, 1)\n",
    "\n",
    "    # 顯示攝影機捕捉的幀\n",
    "    cv2.imshow('camera', frame)\n",
    "\n",
    "    # 檢測按鍵事件\n",
    "    key = cv2.waitKey(1)\n",
    "    if key == ord('q'):\n",
    "        break\n",
    "    elif key == ord(' '):  # 空白鍵\n",
    "        # 將幀進行前處理\n",
    "        preprocessed_img = processor.hsv_segmentation(frame)\n",
    "        preprocessed_img = processor.largest_connected_component(preprocessed_img)\n",
    "        preprocessed_img = processor.gray_level(preprocessed_img)\n",
    "        \n",
    "        # 生成圖片名稱，並保存處理後的圖片\n",
    "        filename = os.path.join(label_dir, f'image_{frame_count}.png')\n",
    "        cv2.imwrite(filename, preprocessed_img)\n",
    "        #cv2.imwrite(filename, frame)\n",
    "\n",
    "        frame_count += 1\n",
    "        print(f'圖片保存到: {filename}')\n",
    "\n",
    "# 釋放攝影機並關閉所有 OpenCV 視窗\n",
    "cap.release()\n",
    "cv2.destroyAllWindows()\n"
   ]
  }
 ],
 "metadata": {
  "kernelspec": {
   "display_name": "CV_GPU",
   "language": "python",
   "name": "python3"
  },
  "language_info": {
   "codemirror_mode": {
    "name": "ipython",
    "version": 3
   },
   "file_extension": ".py",
   "mimetype": "text/x-python",
   "name": "python",
   "nbconvert_exporter": "python",
   "pygments_lexer": "ipython3",
   "version": "3.12.8"
  }
 },
 "nbformat": 4,
 "nbformat_minor": 2
}
